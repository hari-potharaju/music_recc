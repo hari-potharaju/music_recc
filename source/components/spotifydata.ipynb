{
 "cells": [
  {
   "cell_type": "code",
   "execution_count": 6,
   "metadata": {},
   "outputs": [],
   "source": [
    "# the access key\n",
    "client_id = \"fd156f449b1a44359bb23cf0c2d67dfc\"\n",
    "client_secret = \"3a69b492b52b4624b60b620b39e8d4ea\""
   ]
  },
  {
   "cell_type": "code",
   "execution_count": 7,
   "metadata": {},
   "outputs": [],
   "source": [
    "# Code to get access token \n",
    "\n",
    "import requests\n",
    "import base64\n",
    "\n",
    "def get_access_token(client_id, client_secret):\n",
    "    auth_url = 'https://accounts.spotify.com/api/token'\n",
    "    auth_header = {\n",
    "        'Authorization': f'Basic {base64.b64encode((client_id + \":\" + client_secret).encode()).decode()}'\n",
    "    }\n",
    "    auth_data = {\n",
    "        'grant_type': 'client_credentials',\n",
    "        'client_id': client_id,\n",
    "        'client_secret': client_secret\n",
    "    }\n",
    "    auth_response = requests.post(auth_url, data=auth_data, headers=auth_header)\n",
    "    auth_response_data = auth_response.json()\n",
    "    access_token = auth_response_data['access_token']\n",
    "    return access_token\n"
   ]
  },
  {
   "cell_type": "code",
   "execution_count": 17,
   "metadata": {},
   "outputs": [],
   "source": [
    "def get_genres(access_token, limit=50, offset=0):\n",
    "    genres_url = 'https://api.spotify.com/v1/browse/categories'\n",
    "    headers = {\n",
    "        'Authorization': 'Bearer ' + access_token\n",
    "    }\n",
    "    params = {\n",
    "        'limit': limit,\n",
    "        'offset': offset\n",
    "    }\n",
    "    response = requests.get(genres_url, headers=headers, params=params)\n",
    "    genres_data = response.json()\n",
    "    genres = [(category['id'], category['name']) for category in genres_data['categories']['items']]\n",
    "    return genres\n"
   ]
  },
  {
   "cell_type": "code",
   "execution_count": 18,
   "metadata": {},
   "outputs": [
    {
     "name": "stdout",
     "output_type": "stream",
     "text": [
      "List of genres:\n",
      "Made For You\n",
      "New Releases\n",
      "Summer\n",
      "Country\n",
      "Hip-Hop\n",
      "Pop\n",
      "Charts\n",
      "GLOW\n",
      "Black Music Month\n",
      "Latin\n",
      "Student\n",
      "Discover\n",
      "Rock\n",
      "Dance/Electronic\n",
      "In the car\n",
      "Mood\n",
      "Indie\n",
      "R&B\n",
      "Christian & Gospel\n",
      "Workout\n",
      "Disney\n",
      "Música Mexicana\n",
      "K-pop\n",
      "Chill\n",
      "Netflix\n",
      "Sleep\n",
      "Party\n",
      "At Home\n",
      "Decades\n",
      "Love\n",
      "Metal\n",
      "Spotify CLASSICS\n",
      "Jazz\n",
      "Trending\n",
      "Frequency\n",
      "Classical\n",
      "Folk & Acoustic\n",
      "Focus\n",
      "Soul\n",
      "Kids & Family\n",
      "Gaming\n",
      "Anime\n",
      "TV & Movies\n",
      "Instrumental\n",
      "Punk\n",
      "Ambient\n",
      "Blues\n",
      "Cooking & Dining\n",
      "Alternative\n",
      "Travel\n"
     ]
    }
   ],
   "source": [
    "access_token = get_access_token(client_id, client_secret)  \n",
    "genres = get_genres(access_token)  \n",
    "\n",
    "print(\"List of genres:\")\n",
    "for genre_id, genre_name in genres:\n",
    "    print(genre_name) \n"
   ]
  },
  {
   "cell_type": "code",
   "execution_count": 19,
   "metadata": {},
   "outputs": [],
   "source": [
    "import spotipy\n",
    "from spotipy.oauth2 import SpotifyClientCredentials\n",
    "client_id = \"fd156f449b1a44359bb23cf0c2d67dfc\"\n",
    "client_secret = \"3a69b492b52b4624b60b620b39e8d4ea\"\n",
    "\n",
    "client_credentials_manager = SpotifyClientCredentials(client_id=client_id, client_secret=client_secret)\n",
    "sp = spotipy.Spotify(client_credentials_manager=client_credentials_manager)\n",
    "\n",
    "def get_artist_genres(artist_id):\n",
    "    artist = sp.artist(artist_id)\n",
    "    return artist['genres']\n",
    "\n",
    "access_token = get_access_token(client_id, client_secret)  \n",
    "def get_artist_genre(artist_id):\n",
    "    artist = sp.artists(artist_id)\n",
    "    return artist['genres']"
   ]
  }
 ],
 "metadata": {
  "kernelspec": {
   "display_name": "Python 3",
   "language": "python",
   "name": "python3"
  },
  "language_info": {
   "codemirror_mode": {
    "name": "ipython",
    "version": 3
   },
   "file_extension": ".py",
   "mimetype": "text/x-python",
   "name": "python",
   "nbconvert_exporter": "python",
   "pygments_lexer": "ipython3",
   "version": "3.8.0"
  }
 },
 "nbformat": 4,
 "nbformat_minor": 2
}
