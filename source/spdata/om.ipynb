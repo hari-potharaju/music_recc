{
 "cells": [
  {
   "cell_type": "code",
   "execution_count": 5,
   "metadata": {},
   "outputs": [
    {
     "name": "stdout",
     "output_type": "stream",
     "text": [
      "Status Code: 200\n",
      "Response Content: b'{\"access_token\":\"BQDQTyPXVifd_haMUCskVJ5SVnwvRbftJJ0HLaN4Vym7KJd-Cwx19vpKx5RbVzCS4JEX66TX-KIp2e9pj2cqC_v7g0WGwA7p4-j7pRS_DNmnuv8G2wE\",\"token_type\":\"Bearer\",\"expires_in\":3600}'\n",
      "1. Dreams - 2004 Remaster\n",
      "2. Everywhere - 2017 Remaster\n",
      "3. The Chain - 2004 Remaster\n",
      "4. Go Your Own Way - 2004 Remaster\n",
      "5. Landslide\n",
      "6. Little Lies - 2017 Remaster\n",
      "7. Don't Stop - 2004 Remaster\n",
      "8. Rhiannon\n",
      "9. Gypsy\n",
      "10. Never Going Back Again - 2004 Remaster\n",
      "Status Code: 200\n",
      "Response Content: b'{\"access_token\":\"BQATAlDjD6fSrulgRtxGIgbTBJLcAFrHv6XUCVSjGPdjGDiXoIwjCuEC6uvGdsp1GqLqicAfo5rlKsoraq0GSjgV3HSYGoLeiVF3x4t87qUaIYOldq8\",\"token_type\":\"Bearer\",\"expires_in\":3600}'\n",
      "1. Fortnight (feat. Post Malone)\n",
      "2. Cruel Summer\n",
      "3. I Can Do It With a Broken Heart\n",
      "4. Down Bad\n",
      "5. Guilty as Sin?\n",
      "6. Who’s Afraid of Little Old Me?\n",
      "7. So Long, London\n",
      "8. My Boy Only Breaks His Favorite Toys\n",
      "9. But Daddy I Love Him\n",
      "10. The Tortured Poets Department\n"
     ]
    },
    {
     "data": {
      "text/plain": [
       "['1. Fortnight (feat. Post Malone)',\n",
       " '2. Cruel Summer',\n",
       " '3. I Can Do It With a Broken Heart',\n",
       " '4. Down Bad',\n",
       " '5. Guilty as Sin?',\n",
       " '6. Who’s Afraid of Little Old Me?',\n",
       " '7. So Long, London',\n",
       " '8. My Boy Only Breaks His Favorite Toys',\n",
       " '9. But Daddy I Love Him',\n",
       " '10. The Tortured Poets Department']"
      ]
     },
     "execution_count": 5,
     "metadata": {},
     "output_type": "execute_result"
    }
   ],
   "source": [
    "from source.spdata.api import top_songs\n",
    "top_songs(\"FleetwoodMac\")\n",
    "top_songs(\"Taylor swipt\")\n"
   ]
  }
 ],
 "metadata": {
  "kernelspec": {
   "display_name": "Python 3",
   "language": "python",
   "name": "python3"
  },
  "language_info": {
   "codemirror_mode": {
    "name": "ipython",
    "version": 3
   },
   "file_extension": ".py",
   "mimetype": "text/x-python",
   "name": "python",
   "nbconvert_exporter": "python",
   "pygments_lexer": "ipython3",
   "version": "3.8.0"
  }
 },
 "nbformat": 4,
 "nbformat_minor": 2
}
